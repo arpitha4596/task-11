{
 "cells": [
  {
   "cell_type": "code",
   "execution_count": 3,
   "metadata": {
    "scrolled": true
   },
   "outputs": [
    {
     "name": "stdout",
     "output_type": "stream",
     "text": [
      "enter the first number:10\n",
      "enter second number:20\n",
      "enter for operation:1=addition,2=subtraction,3=multiplication,4=division:1\n"
     ]
    }
   ],
   "source": [
    "num1=int(input(\"enter the first number:\"))\n",
    "num2=int(input(\"enter second number:\"))\n",
    "output=int(input(\"enter for operation:1=addition,2=subtraction,3=multiplication,4=division:\"))\n",
    "def add(x,y):\n",
    "    z=x+y\n",
    "    print(z)\n",
    "    \n",
    "def sub(x,y):\n",
    "    a=x-y\n",
    "    print(a)\n",
    "    \n",
    "def multi(x,y):\n",
    "    b=x*y\n",
    "    print(b)\n",
    "    \n",
    "def divi(x,y):\n",
    "    c=x/y\n",
    "    print(c)"
   ]
  },
  {
   "cell_type": "code",
   "execution_count": 4,
   "metadata": {},
   "outputs": [
    {
     "name": "stdout",
     "output_type": "stream",
     "text": [
      "30\n"
     ]
    }
   ],
   "source": [
    "add(10,20)"
   ]
  },
  {
   "cell_type": "code",
   "execution_count": 3,
   "metadata": {},
   "outputs": [
    {
     "name": "stdout",
     "output_type": "stream",
     "text": [
      "enter the first number:10\n",
      "enter second number:8\n",
      "enter for operation:1=addition,2=subtraction,3=multiplication,4=division:2\n"
     ]
    }
   ],
   "source": [
    "num1=int(input(\"enter the first number:\"))\n",
    "num2=int(input(\"enter second number:\"))\n",
    "output=int(input(\"enter for operation:1=addition,2=subtraction,3=multiplication,4=division:\"))\n",
    "def add(x,y):\n",
    "    z=x+y\n",
    "    print(z)\n",
    "def sub(x,y):\n",
    "    a=x-y\n",
    "    print(a)\n",
    "def multi(x,y):\n",
    "    b=x*y\n",
    "    print(b)\n",
    "def divi(x,y):\n",
    "    c=x/y\n",
    "    print(c)\n"
   ]
  },
  {
   "cell_type": "code",
   "execution_count": 6,
   "metadata": {},
   "outputs": [
    {
     "name": "stdout",
     "output_type": "stream",
     "text": [
      "2\n"
     ]
    }
   ],
   "source": [
    "sub(10,8)"
   ]
  },
  {
   "cell_type": "code",
   "execution_count": 8,
   "metadata": {},
   "outputs": [
    {
     "name": "stdout",
     "output_type": "stream",
     "text": [
      "enter the first number:30\n",
      "enter second number:5\n",
      "enter for operation:1=addition,2=subtraction,3=multiplication,4=division:3\n"
     ]
    }
   ],
   "source": [
    "num1=int(input(\"enter the first number:\"))\n",
    "num2=int(input(\"enter second number:\"))\n",
    "output=int(input(\"enter for operation:1=addition,2=subtraction,3=multiplication,4=division:\"))\n",
    "def add(x,y):\n",
    "    z=x+y\n",
    "    print(z)\n",
    "def sub(x,y):\n",
    "    a=x-y\n",
    "    print(a)\n",
    "def multi(x,y):\n",
    "    b=x*y\n",
    "    print(b)\n",
    "def divi(x,y):\n",
    "    c=x/y\n",
    "    print(c)"
   ]
  },
  {
   "cell_type": "code",
   "execution_count": 10,
   "metadata": {},
   "outputs": [
    {
     "name": "stdout",
     "output_type": "stream",
     "text": [
      "150\n"
     ]
    }
   ],
   "source": [
    "multi(30,5)\n"
   ]
  },
  {
   "cell_type": "code",
   "execution_count": 31,
   "metadata": {},
   "outputs": [
    {
     "name": "stdout",
     "output_type": "stream",
     "text": [
      "enter the first number:500\n",
      "enter second number:100\n",
      "enter for operation:1=addition,2=subtraction,3=multiplication,4=division:4\n"
     ]
    }
   ],
   "source": [
    "num1=int(input(\"enter the first number:\"))\n",
    "num2=int(input(\"enter second number:\"))\n",
    "output=int(input(\"enter for operation:1=addition,2=subtraction,3=multiplication,4=division:\"))\n",
    "def add(x,y):\n",
    "    z=x+y\n",
    "    print(z)\n",
    "def sub(x,y):\n",
    "    a=x-y\n",
    "    print(a)\n",
    "def multi(x,y):\n",
    "    b=x*y\n",
    "    print(b)\n",
    "def divi(x,y):\n",
    "    c=x/y\n",
    "    print(c)"
   ]
  },
  {
   "cell_type": "code",
   "execution_count": 32,
   "metadata": {},
   "outputs": [
    {
     "name": "stdout",
     "output_type": "stream",
     "text": [
      "5.0\n"
     ]
    }
   ],
   "source": [
    "divi(500,100)"
   ]
  },
  {
   "cell_type": "code",
   "execution_count": null,
   "metadata": {},
   "outputs": [],
   "source": []
  }
 ],
 "metadata": {
  "kernelspec": {
   "display_name": "Python 3",
   "language": "python",
   "name": "python3"
  },
  "language_info": {
   "codemirror_mode": {
    "name": "ipython",
    "version": 3
   },
   "file_extension": ".py",
   "mimetype": "text/x-python",
   "name": "python",
   "nbconvert_exporter": "python",
   "pygments_lexer": "ipython3",
   "version": "3.8.3"
  }
 },
 "nbformat": 4,
 "nbformat_minor": 4
}
